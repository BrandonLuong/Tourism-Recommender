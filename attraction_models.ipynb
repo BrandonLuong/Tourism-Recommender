{
 "cells": [
  {
   "cell_type": "code",
   "execution_count": 1,
   "metadata": {},
   "outputs": [],
   "source": [
    "from opentripdata import main\n",
    "import multiprocessing as mp\n",
    "import asyncio\n",
    "import aiohttp"
   ]
  },
  {
   "cell_type": "code",
   "execution_count": 11,
   "metadata": {},
   "outputs": [],
   "source": [
    "async def main_async(dest):\n",
    "    task = asyncio.create_task(main(dest))\n",
    "    await task\n",
    "# if __name__ == \"__main__\":\n",
    "attraction_df = await main(\"Los Angeles\")"
   ]
  },
  {
   "cell_type": "code",
   "execution_count": 12,
   "metadata": {},
   "outputs": [
    {
     "data": {
      "text/html": [
       "<div>\n",
       "<style scoped>\n",
       "    .dataframe tbody tr th:only-of-type {\n",
       "        vertical-align: middle;\n",
       "    }\n",
       "\n",
       "    .dataframe tbody tr th {\n",
       "        vertical-align: top;\n",
       "    }\n",
       "\n",
       "    .dataframe thead th {\n",
       "        text-align: right;\n",
       "    }\n",
       "</style>\n",
       "<table border=\"1\" class=\"dataframe\">\n",
       "  <thead>\n",
       "    <tr style=\"text-align: right;\">\n",
       "      <th></th>\n",
       "      <th>name</th>\n",
       "      <th>rate</th>\n",
       "      <th>kinds</th>\n",
       "      <th>desc</th>\n",
       "    </tr>\n",
       "  </thead>\n",
       "  <tbody>\n",
       "    <tr>\n",
       "      <th>0</th>\n",
       "      <td>Los Angeles Police Department Memorial to Fall...</td>\n",
       "      <td>3</td>\n",
       "      <td>historic,monuments_and_memorials,urban_environ...</td>\n",
       "      <td>The Los Angeles Police Department Memorial to ...</td>\n",
       "    </tr>\n",
       "    <tr>\n",
       "      <th>1</th>\n",
       "      <td>Los Angeles City Hall</td>\n",
       "      <td>3</td>\n",
       "      <td>skyscrapers,architecture,interesting_places</td>\n",
       "      <td>Los Angeles City Hall, completed in 1928, is t...</td>\n",
       "    </tr>\n",
       "    <tr>\n",
       "      <th>2</th>\n",
       "      <td>Crawford Addition</td>\n",
       "      <td>3</td>\n",
       "      <td>architecture,historic_architecture,interesting...</td>\n",
       "      <td>The Higgins Building is a proto-Modernist conc...</td>\n",
       "    </tr>\n",
       "    <tr>\n",
       "      <th>3</th>\n",
       "      <td>Historic Core</td>\n",
       "      <td>3</td>\n",
       "      <td>historic,historical_places,interesting_places,...</td>\n",
       "      <td>The Historic Core is a district within Downtow...</td>\n",
       "    </tr>\n",
       "    <tr>\n",
       "      <th>4</th>\n",
       "      <td>Vibiana</td>\n",
       "      <td>3</td>\n",
       "      <td>religion,cathedrals,interesting_places</td>\n",
       "      <td>The Cathedral of Saint Vibiana, often called S...</td>\n",
       "    </tr>\n",
       "    <tr>\n",
       "      <th>...</th>\n",
       "      <td>...</td>\n",
       "      <td>...</td>\n",
       "      <td>...</td>\n",
       "      <td>...</td>\n",
       "    </tr>\n",
       "    <tr>\n",
       "      <th>95</th>\n",
       "      <td>Jeanne d'Arc</td>\n",
       "      <td>3</td>\n",
       "      <td>historic,cultural,urban_environment,monuments_...</td>\n",
       "      <td>Jeanne d'Arc (ou Jeanne au sacre) est une stat...</td>\n",
       "    </tr>\n",
       "    <tr>\n",
       "      <th>96</th>\n",
       "      <td>South Park Lofts</td>\n",
       "      <td>7</td>\n",
       "      <td>other,unclassified_objects,interesting_places,...</td>\n",
       "      <td>No Description</td>\n",
       "    </tr>\n",
       "    <tr>\n",
       "      <th>97</th>\n",
       "      <td>Gallery 1927 at the Fine Arts Building</td>\n",
       "      <td>3</td>\n",
       "      <td>cultural,museums,interesting_places,art_galleries</td>\n",
       "      <td>The landmark Fine Arts Building is located at ...</td>\n",
       "    </tr>\n",
       "    <tr>\n",
       "      <th>98</th>\n",
       "      <td>824 Building</td>\n",
       "      <td>7</td>\n",
       "      <td>factories,industrial_facilities,interesting_pl...</td>\n",
       "      <td>Gerry Building is a high-rise building in the ...</td>\n",
       "    </tr>\n",
       "    <tr>\n",
       "      <th>99</th>\n",
       "      <td>Southern California Gas Company Complex</td>\n",
       "      <td>7</td>\n",
       "      <td>historic_architecture,architecture,interesting...</td>\n",
       "      <td>No Description</td>\n",
       "    </tr>\n",
       "  </tbody>\n",
       "</table>\n",
       "<p>100 rows × 4 columns</p>\n",
       "</div>"
      ],
      "text/plain": [
       "                                                 name  rate  \\\n",
       "0   Los Angeles Police Department Memorial to Fall...     3   \n",
       "1                               Los Angeles City Hall     3   \n",
       "2                                   Crawford Addition     3   \n",
       "3                                       Historic Core     3   \n",
       "4                                             Vibiana     3   \n",
       "..                                                ...   ...   \n",
       "95                                       Jeanne d'Arc     3   \n",
       "96                                   South Park Lofts     7   \n",
       "97             Gallery 1927 at the Fine Arts Building     3   \n",
       "98                                       824 Building     7   \n",
       "99            Southern California Gas Company Complex     7   \n",
       "\n",
       "                                                kinds  \\\n",
       "0   historic,monuments_and_memorials,urban_environ...   \n",
       "1         skyscrapers,architecture,interesting_places   \n",
       "2   architecture,historic_architecture,interesting...   \n",
       "3   historic,historical_places,interesting_places,...   \n",
       "4              religion,cathedrals,interesting_places   \n",
       "..                                                ...   \n",
       "95  historic,cultural,urban_environment,monuments_...   \n",
       "96  other,unclassified_objects,interesting_places,...   \n",
       "97  cultural,museums,interesting_places,art_galleries   \n",
       "98  factories,industrial_facilities,interesting_pl...   \n",
       "99  historic_architecture,architecture,interesting...   \n",
       "\n",
       "                                                 desc  \n",
       "0   The Los Angeles Police Department Memorial to ...  \n",
       "1   Los Angeles City Hall, completed in 1928, is t...  \n",
       "2   The Higgins Building is a proto-Modernist conc...  \n",
       "3   The Historic Core is a district within Downtow...  \n",
       "4   The Cathedral of Saint Vibiana, often called S...  \n",
       "..                                                ...  \n",
       "95  Jeanne d'Arc (ou Jeanne au sacre) est une stat...  \n",
       "96                                     No Description  \n",
       "97  The landmark Fine Arts Building is located at ...  \n",
       "98  Gerry Building is a high-rise building in the ...  \n",
       "99                                     No Description  \n",
       "\n",
       "[100 rows x 4 columns]"
      ]
     },
     "execution_count": 12,
     "metadata": {},
     "output_type": "execute_result"
    }
   ],
   "source": [
    "attraction_df"
   ]
  },
  {
   "cell_type": "code",
   "execution_count": 4,
   "metadata": {},
   "outputs": [],
   "source": [
    "import pandas as pd\n",
    "from sklearn.feature_extraction.text import CountVectorizer, TfidfTransformer\n",
    "from sklearn.metrics.pairwise import cosine_similarity"
   ]
  },
  {
   "cell_type": "code",
   "execution_count": 5,
   "metadata": {},
   "outputs": [],
   "source": [
    "# Instantiate CountVectorizer and TfidfTransformer\n",
    "count_vectorizer = CountVectorizer(max_features=5000, stop_words=\"english\")\n",
    "tfidf_transformer = TfidfTransformer()\n"
   ]
  },
  {
   "cell_type": "code",
   "execution_count": 10,
   "metadata": {},
   "outputs": [],
   "source": [
    "count_matrix = count_vectorizer.fit_transform(attraction_df['desc']).toarray()\n",
    "# Transform the count matrix to TF-IDF matrix\n",
    "# tfidf_matrix = tfidf_transformer.fit_transform(count_matrix)\n"
   ]
  },
  {
   "cell_type": "code",
   "execution_count": 15,
   "metadata": {},
   "outputs": [
    {
     "data": {
      "text/plain": [
       "array([[1.        , 0.        , 0.12760875, ..., 0.18727644, 0.09421683,\n",
       "        0.19166144],\n",
       "       [0.        , 1.        , 0.        , ..., 0.        , 0.        ,\n",
       "        0.        ],\n",
       "       [0.12760875, 0.        , 1.        , ..., 0.34478458, 0.42664092,\n",
       "        0.26368433],\n",
       "       ...,\n",
       "       [0.18727644, 0.        , 0.34478458, ..., 1.        , 0.22135944,\n",
       "        0.22515121],\n",
       "       [0.09421683, 0.        , 0.42664092, ..., 0.22135944, 1.        ,\n",
       "        0.27812135],\n",
       "       [0.19166144, 0.        , 0.26368433, ..., 0.22515121, 0.27812135,\n",
       "        1.        ]])"
      ]
     },
     "execution_count": 15,
     "metadata": {},
     "output_type": "execute_result"
    }
   ],
   "source": [
    "cosine_similarity(count_matrix)"
   ]
  },
  {
   "cell_type": "code",
   "execution_count": 17,
   "metadata": {},
   "outputs": [],
   "source": [
    "# Calculate cosine similarity between TF-IDF matrix rows (attractions)\n",
    "cosine_sim = cosine_similarity(count_matrix)"
   ]
  },
  {
   "cell_type": "code",
   "execution_count": 84,
   "metadata": {},
   "outputs": [],
   "source": [
    "# Recommend attractions based on user input\n",
    "user_keywords = \"nature,\"  # User-provided keywords\n",
    "user_tfidf = count_vectorizer.transform([user_keywords])\n",
    "user_tfidf = tfidf_transformer.transform(user_tfidf)"
   ]
  },
  {
   "cell_type": "code",
   "execution_count": 85,
   "metadata": {},
   "outputs": [
    {
     "data": {
      "text/plain": [
       "array([[0., 0., 0., ..., 0., 0., 0.]])"
      ]
     },
     "execution_count": 85,
     "metadata": {},
     "output_type": "execute_result"
    }
   ],
   "source": [
    "user_tfidf.toarray()"
   ]
  },
  {
   "cell_type": "code",
   "execution_count": 86,
   "metadata": {},
   "outputs": [],
   "source": [
    "# Calculate cosine similarity between user input and attractions\n",
    "user_similarity = cosine_similarity(user_tfidf, tfidf_matrix).flatten()\n",
    "\n",
    "# Get indices of attractions sorted by similarity\n",
    "recommended_indices = user_similarity.argsort()[::-1]"
   ]
  },
  {
   "cell_type": "code",
   "execution_count": 95,
   "metadata": {},
   "outputs": [
    {
     "data": {
      "text/plain": [
       "<100x1074 sparse matrix of type '<class 'numpy.int64'>'\n",
       "\twith 2420 stored elements in Compressed Sparse Row format>"
      ]
     },
     "execution_count": 95,
     "metadata": {},
     "output_type": "execute_result"
    }
   ],
   "source": [
    "count_vectorizer.transform(attraction_df['desc'])"
   ]
  },
  {
   "cell_type": "code",
   "execution_count": 88,
   "metadata": {},
   "outputs": [
    {
     "data": {
      "text/html": [
       "<div>\n",
       "<style scoped>\n",
       "    .dataframe tbody tr th:only-of-type {\n",
       "        vertical-align: middle;\n",
       "    }\n",
       "\n",
       "    .dataframe tbody tr th {\n",
       "        vertical-align: top;\n",
       "    }\n",
       "\n",
       "    .dataframe thead th {\n",
       "        text-align: right;\n",
       "    }\n",
       "</style>\n",
       "<table border=\"1\" class=\"dataframe\">\n",
       "  <thead>\n",
       "    <tr style=\"text-align: right;\">\n",
       "      <th></th>\n",
       "      <th>name</th>\n",
       "      <th>rate</th>\n",
       "      <th>kinds</th>\n",
       "      <th>desc</th>\n",
       "    </tr>\n",
       "  </thead>\n",
       "  <tbody>\n",
       "    <tr>\n",
       "      <th>99</th>\n",
       "      <td>Southern California Gas Company Complex</td>\n",
       "      <td>7</td>\n",
       "      <td>historic_architecture,architecture,interesting...</td>\n",
       "      <td>The Southern California Gas Company Complex is...</td>\n",
       "    </tr>\n",
       "    <tr>\n",
       "      <th>36</th>\n",
       "      <td>California Plaza Amphitheater</td>\n",
       "      <td>3</td>\n",
       "      <td>skyscrapers,architecture,cultural,theatres_and...</td>\n",
       "      <td>No Description</td>\n",
       "    </tr>\n",
       "    <tr>\n",
       "      <th>26</th>\n",
       "      <td>Plaza Fire House</td>\n",
       "      <td>3</td>\n",
       "      <td>architecture,historic_architecture,interesting...</td>\n",
       "      <td>No Description</td>\n",
       "    </tr>\n",
       "    <tr>\n",
       "      <th>27</th>\n",
       "      <td>Angels Flight</td>\n",
       "      <td>7</td>\n",
       "      <td>bridges,architecture,interesting_places,other_...</td>\n",
       "      <td>Angels Flight is a landmark and historic 2 ft ...</td>\n",
       "    </tr>\n",
       "    <tr>\n",
       "      <th>28</th>\n",
       "      <td>Angels Flight</td>\n",
       "      <td>7</td>\n",
       "      <td>architecture,historic_architecture,interesting...</td>\n",
       "      <td>Angels Flight is a landmark and historic 2 ft ...</td>\n",
       "    </tr>\n",
       "    <tr>\n",
       "      <th>...</th>\n",
       "      <td>...</td>\n",
       "      <td>...</td>\n",
       "      <td>...</td>\n",
       "      <td>...</td>\n",
       "    </tr>\n",
       "    <tr>\n",
       "      <th>69</th>\n",
       "      <td>Los Angeles Central Library</td>\n",
       "      <td>7</td>\n",
       "      <td>historic_architecture,architecture,interesting...</td>\n",
       "      <td>No Description</td>\n",
       "    </tr>\n",
       "    <tr>\n",
       "      <th>70</th>\n",
       "      <td>Citigroup</td>\n",
       "      <td>3</td>\n",
       "      <td>skyscrapers,architecture,interesting_places,ba...</td>\n",
       "      <td>FourFortyFour South Flower, now named Citigrou...</td>\n",
       "    </tr>\n",
       "    <tr>\n",
       "      <th>71</th>\n",
       "      <td>MTA Building</td>\n",
       "      <td>3</td>\n",
       "      <td>skyscrapers,architecture,interesting_places</td>\n",
       "      <td>No Description</td>\n",
       "    </tr>\n",
       "    <tr>\n",
       "      <th>72</th>\n",
       "      <td>Broadway Theater District</td>\n",
       "      <td>7</td>\n",
       "      <td>historic,historical_places,cultural,urban_envi...</td>\n",
       "      <td>No Description</td>\n",
       "    </tr>\n",
       "    <tr>\n",
       "      <th>0</th>\n",
       "      <td>Los Angeles Police Department Memorial to Fall...</td>\n",
       "      <td>3</td>\n",
       "      <td>historic,monuments_and_memorials,urban_environ...</td>\n",
       "      <td>The Los Angeles Police Department Memorial to ...</td>\n",
       "    </tr>\n",
       "  </tbody>\n",
       "</table>\n",
       "<p>100 rows × 4 columns</p>\n",
       "</div>"
      ],
      "text/plain": [
       "                                                 name  rate  \\\n",
       "99            Southern California Gas Company Complex     7   \n",
       "36                      California Plaza Amphitheater     3   \n",
       "26                                   Plaza Fire House     3   \n",
       "27                                      Angels Flight     7   \n",
       "28                                      Angels Flight     7   \n",
       "..                                                ...   ...   \n",
       "69                        Los Angeles Central Library     7   \n",
       "70                                          Citigroup     3   \n",
       "71                                       MTA Building     3   \n",
       "72                          Broadway Theater District     7   \n",
       "0   Los Angeles Police Department Memorial to Fall...     3   \n",
       "\n",
       "                                                kinds  \\\n",
       "99  historic_architecture,architecture,interesting...   \n",
       "36  skyscrapers,architecture,cultural,theatres_and...   \n",
       "26  architecture,historic_architecture,interesting...   \n",
       "27  bridges,architecture,interesting_places,other_...   \n",
       "28  architecture,historic_architecture,interesting...   \n",
       "..                                                ...   \n",
       "69  historic_architecture,architecture,interesting...   \n",
       "70  skyscrapers,architecture,interesting_places,ba...   \n",
       "71        skyscrapers,architecture,interesting_places   \n",
       "72  historic,historical_places,cultural,urban_envi...   \n",
       "0   historic,monuments_and_memorials,urban_environ...   \n",
       "\n",
       "                                                 desc  \n",
       "99  The Southern California Gas Company Complex is...  \n",
       "36                                     No Description  \n",
       "26                                     No Description  \n",
       "27  Angels Flight is a landmark and historic 2 ft ...  \n",
       "28  Angels Flight is a landmark and historic 2 ft ...  \n",
       "..                                                ...  \n",
       "69                                     No Description  \n",
       "70  FourFortyFour South Flower, now named Citigrou...  \n",
       "71                                     No Description  \n",
       "72                                     No Description  \n",
       "0   The Los Angeles Police Department Memorial to ...  \n",
       "\n",
       "[100 rows x 4 columns]"
      ]
     },
     "execution_count": 88,
     "metadata": {},
     "output_type": "execute_result"
    }
   ],
   "source": [
    "# # Display recommended attractions\n",
    "# for index in recommended_indices:\n",
    "#     print(attraction_df[index])\n",
    "attraction_df.iloc[recommended_indices,:]"
   ]
  },
  {
   "cell_type": "code",
   "execution_count": 45,
   "metadata": {},
   "outputs": [
    {
     "data": {
      "text/plain": [
       "'The Japanese American National Museum (全米日系人博物館, Zenbei Nikkeijin Hakubutsukan) is located in Los Angeles, California, and dedicated to preserving the history and culture of Japanese Americans. Founded in 1992, it is located in the Little Tokyo area near downtown. The museum is an affiliate within the Smithsonian Affiliations program.'"
      ]
     },
     "execution_count": 45,
     "metadata": {},
     "output_type": "execute_result"
    }
   ],
   "source": [
    "attraction_df.iloc[16]['desc']"
   ]
  },
  {
   "cell_type": "code",
   "execution_count": null,
   "metadata": {},
   "outputs": [],
   "source": []
  }
 ],
 "metadata": {
  "kernelspec": {
   "display_name": "Python 3",
   "language": "python",
   "name": "python3"
  },
  "language_info": {
   "codemirror_mode": {
    "name": "ipython",
    "version": 3
   },
   "file_extension": ".py",
   "mimetype": "text/x-python",
   "name": "python",
   "nbconvert_exporter": "python",
   "pygments_lexer": "ipython3",
   "version": "3.9.2"
  },
  "orig_nbformat": 4
 },
 "nbformat": 4,
 "nbformat_minor": 2
}
